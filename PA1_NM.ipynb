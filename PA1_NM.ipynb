{
 "cells": [
  {
   "cell_type": "markdown",
   "id": "e9eabfc0-297b-44bd-8c00-f20aa0236d51",
   "metadata": {},
   "source": [
    "# Programming Assignment X\n",
    "---\n",
    "**Author:** Nikola Mrdak  \n",
    "**Version:** 1.0  \n",
    "**Semester:** Spring 2024 \n",
    "\n",
    "This *notebook* contains my solution(s) to **Programming Assignment 1**"
   ]
  },
  {
   "cell_type": "markdown",
   "id": "97609543-ffb5-44f9-9812-83928914151d",
   "metadata": {},
   "source": [
    "###Problem 1 - Manipulating Numbers"
   ]
  },
  {
   "cell_type": "code",
   "execution_count": 1,
   "id": "9c5ef2d6-eb28-42d7-996f-bfd971df6356",
   "metadata": {
    "tags": []
   },
   "outputs": [
    {
     "name": "stdin",
     "output_type": "stream",
     "text": [
      "Enter an integer: 4\n",
      "Enter a floating point number: 4.321\n"
     ]
    }
   ],
   "source": [
    "input_a = int(input('Enter an integer:')) \n",
    "input_b = float(input('Enter a floating point number:'))"
   ]
  },
  {
   "cell_type": "code",
   "execution_count": 7,
   "id": "8a97b6b1-3d63-4628-9365-a200bc816812",
   "metadata": {
    "tags": []
   },
   "outputs": [
    {
     "name": "stdout",
     "output_type": "stream",
     "text": [
      "The sum is 8.321\n",
      "The difference is -0.321\n",
      "The product is 17.284\n",
      "The quotient is 0.926\n",
      "The type for the result is <class 'float'>\n"
     ]
    }
   ],
   "source": [
    "result = input_a + input_b\n",
    "print (f'The sum is {result:.3f}')\n",
    "\n",
    "result = input_a - input_b\n",
    "print (f'The difference is {result:.3f}')\n",
    "\n",
    "result = input_a * input_b\n",
    "print (f'The product is {result:.3f}')\n",
    "\n",
    "result = input_a / input_b\n",
    "print (f'The quotient is {result:.3f}')\n",
    "\n",
    "print(f'The type for the result is {type(result)}')"
   ]
  },
  {
   "cell_type": "markdown",
   "id": "206218b2-44e4-4b08-9e28-c6d56e549b90",
   "metadata": {},
   "source": [
    "###Problem 2 - Calculating Target Heart Rate"
   ]
  },
  {
   "cell_type": "code",
   "execution_count": 10,
   "id": "928c86f2-1e5d-4a1a-8582-ba96ed4ef456",
   "metadata": {
    "tags": []
   },
   "outputs": [
    {
     "name": "stdin",
     "output_type": "stream",
     "text": [
      "Enter your age:  50\n"
     ]
    },
    {
     "name": "stdout",
     "output_type": "stream",
     "text": [
      "Your maximum heart rate is 170 bpm.\n",
      "Your lower heart rate limit is 85.000 bpm.\n",
      "Your upper heart rate limit is 144.500 bpm.\n"
     ]
    }
   ],
   "source": [
    "age = int(input(\"Enter your age: \"))\n",
    "                  \n",
    "max_heart_rate = (220 - age)\n",
    "\n",
    "print (f'Your maximum heart rate is {max_heart_rate} bpm.') \n",
    "\n",
    "lower_limit = (max_heart_rate * .50)\n",
    "print (f'Your lower heart rate limit is {lower_limit:.3f} bpm.')\n",
    "\n",
    "upper_limit = (max_heart_rate * .85)\n",
    "print (f'Your upper heart rate limit is {upper_limit:.3f} bpm.')\n"
   ]
  },
  {
   "cell_type": "code",
   "execution_count": null,
   "id": "c54ee92f-98bd-454c-b3d0-414e74165454",
   "metadata": {},
   "outputs": [],
   "source": []
  }
 ],
 "metadata": {
  "kernelspec": {
   "display_name": "Python 3 (ipykernel)",
   "language": "python",
   "name": "python3"
  },
  "language_info": {
   "codemirror_mode": {
    "name": "ipython",
    "version": 3
   },
   "file_extension": ".py",
   "mimetype": "text/x-python",
   "name": "python",
   "nbconvert_exporter": "python",
   "pygments_lexer": "ipython3",
   "version": "3.11.5"
  }
 },
 "nbformat": 4,
 "nbformat_minor": 5
}
